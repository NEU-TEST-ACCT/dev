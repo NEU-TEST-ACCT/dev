{
 "cells": [
  {
   "cell_type": "markdown",
   "metadata": {},
   "source": [
    "# Getting started in python-with-jupyter\n",
    "-[the official tutorial](https://docs.python.org/3/)\n",
    "\n",
    "-[nice intro to basics of language](https://www.w3schools.com/python/default.asp)"
   ]
  },
  {
   "cell_type": "markdown",
   "metadata": {},
   "source": [
    "## Initializing Variables\n",
    "Here we will assign a variable and print it out (there will be much more on different variable types in NumPy tutorials)\n",
    "\n",
    "In python, variables:\n",
    "* are case sensitive\n",
    "* are initialized with the '=' sign as in 'x = 5' (no explicit term needed as in C 'int x, x=5')\n",
    "* start with a letter or underscore character... not a number\n",
    "* can only contain alpha-numeric characters and underscores (A-z, 0-9, and _ )\n",
    "\n",
    "[obama kills fly](https://www.youtube.com/watch?v=yyQ3ToiimyM)\n"
   ]
  },
  {
   "cell_type": "code",
   "execution_count": null,
   "metadata": {},
   "outputs": [],
   "source": [
    "# obligatory first code code\n",
    "my_first_variable = 'Hello World!'\n",
    "print(my_first_variable)"
   ]
  },
  {
   "cell_type": "code",
   "execution_count": null,
   "metadata": {
    "collapsed": true
   },
   "outputs": [],
   "source": [
    "# define a string...\n",
    "x = 'Obama kills a fly'\n",
    "print(x)\n",
    "\n",
    "# this is another way to define a string\n",
    "x = \"Obama kills another fly\"\n",
    "print(x)"
   ]
  },
  {
   "cell_type": "code",
   "execution_count": null,
   "metadata": {
    "collapsed": true
   },
   "outputs": [],
   "source": [
    "# declare a numerical variable, can easily combine with strings in print statement...\n",
    "y = 17\n",
    "print(x, y, 'times a day')"
   ]
  },
  {
   "cell_type": "markdown",
   "metadata": {},
   "source": [
    "<div class=\"alert alert-info\">\n",
    "Note that Python is a strongly typed language - some languages will implicitly (automatically) recast variable types (e.g. basic or java). Python allows explcit recasting or reassignment to a variable of a different type, but will not do so automatically except in obvious cases like upcasting\n",
    "</div>"
   ]
  },
  {
   "cell_type": "code",
   "execution_count": null,
   "metadata": {
    "collapsed": true
   },
   "outputs": [],
   "source": [
    "# declare x as an int\n",
    "x = 2\n",
    "print('value of x: ', x, 'type of x: ', type(x))\n",
    "\n",
    "# now declare as a string, this is ok...\n",
    "x = '2'\n",
    "print('value of x: ', x, 'type of x: ', type(x))\n",
    "\n",
    "# but you can't do this because you can't combine int and str data types\n",
    "y = 2\n",
    "x = '2'\n",
    "\n",
    "print('type of x: ', type(x), 'type of y: ', type(y))\n",
    "\n",
    "# so this will throw an error, whereas in some other languages it might \n",
    "# either return 4 (e.g. VB if recast to ints) or maybe even 22 (java if recast to strs)\n",
    "x+y  "
   ]
  },
  {
   "cell_type": "markdown",
   "metadata": {},
   "source": [
    "## Variables as References\n",
    "<div class=\"alert alert-warning\">\n",
    "variable assignments usually lead to <b>references</b> in Python, not <b>copies</b> as in many languages.\n",
    "This is SUPER important to understand!\n",
    "</div>"
   ]
  },
  {
   "cell_type": "code",
   "execution_count": null,
   "metadata": {
    "collapsed": true
   },
   "outputs": [],
   "source": [
    "# assign a variable - to a list in this case (more on those later)\n",
    "x = [1, 5]\n",
    "\n",
    "# then make another variable, y, and assign it to x\n",
    "y = x\n",
    "\n",
    "# in most languages this would make a copy of what is in x and then assign that to y\n",
    "# i.e. you would have two separate variables that contain independent copies of the data\n",
    "# but in Python, by default, y is just a reference to x and in turn they reference the same\n",
    "# data in memory.\n",
    "\n",
    "# change the second element in y and see what happens to x!\n",
    "y[1] = 3\n",
    "\n",
    "print(x)\n",
    "\n",
    "# we'll talk about 'deep copies' later when we get to NumPy, just keep this in mind for now"
   ]
  },
  {
   "cell_type": "markdown",
   "metadata": {},
   "source": [
    "## Control Flow (Conditional Statements)\n",
    "\n",
    "if, elif, else statements allow you to control which code is run based on the a condition (eg. the value of a variable). Note the use of colons (:) and that indentation is important. This is key as python has no 'begin...end' syntax like the curly braces in C or R. \n",
    "\n",
    "External Links:\n",
    "* [if...elif...else conditions](https://www.w3schools.com/python/python_conditions.asp)\n",
    "* [while and for loops](https://www.w3schools.com/python/python_while_loops.asp)"
   ]
  },
  {
   "cell_type": "code",
   "execution_count": null,
   "metadata": {
    "collapsed": true
   },
   "outputs": [],
   "source": [
    "# Here changing the value of x changes which code is executed. Try a few different values of x\n",
    "x = 20\n",
    "\n",
    "# then see what x is...\n",
    "if x > 10:\n",
    "    print(\"yep, its greater than 10\")\n",
    "elif x == 10:\n",
    "    print('x = 10')\n",
    "elif 0 <= x < 10:\n",
    "    print(\"x is less than 10, but still >= 0\")\n",
    "elif x < 0:\n",
    "    print(\"x is negative\")\n",
    "else: # catch-all\n",
    "    print(\"who knows what x is?\")\n",
    "    \n",
    "    "
   ]
  },
  {
   "cell_type": "markdown",
   "metadata": {},
   "source": [
    "Indentation is important (see what happens when you try and run the code below)! To indent a section of text, you can highlight it and press: \n",
    "\"cmd\" + \"]\". To unindent use \"cmd\" + \"[\""
   ]
  },
  {
   "cell_type": "code",
   "execution_count": null,
   "metadata": {
    "collapsed": true
   },
   "outputs": [],
   "source": [
    "if x > 10:\n",
    "print(\"yep, its greater than 10\")"
   ]
  },
  {
   "cell_type": "markdown",
   "metadata": {},
   "source": [
    "## Control Flow (For Loops)\n",
    "For loops allow you to iteratively do something a fixed number of times. There are many ways to go about this... but one of the most common is with the **range()** function. range(x) gives the range of values up to, but not including, x. The **len()** function gives the length of a list. Putting those together, we can iterate through every item in a list."
   ]
  },
  {
   "cell_type": "code",
   "execution_count": null,
   "metadata": {
    "collapsed": true
   },
   "outputs": [],
   "source": [
    "#iterate using a for loop\n",
    "y = [20,10,5]\n",
    "x = [0,10,25]\n",
    "\n",
    "# loop over elements by iterating from 0:len(x)-1 and applying * operation to each \n",
    "# set of elements in x, y. Note that \"range(len(x))\" is iterable (its a sequence, not just a single number)\n",
    "for i in range(len(x)):\n",
    "    print('Iteration: ', i, x[i]*y[i])\n",
    "    "
   ]
  },
  {
   "cell_type": "markdown",
   "metadata": {},
   "source": [
    "For loops can iterate directly over lists. This can be convienient/faster if you do not care about what iteration a loop is on or do not need to go through multiple lists at once. You can skip to the next iteration of a for-loop using the **continue** command."
   ]
  },
  {
   "cell_type": "code",
   "execution_count": null,
   "metadata": {},
   "outputs": [],
   "source": [
    "# print positive values of x^2\n",
    "for xx in x:\n",
    "    if xx ==0:\n",
    "        continue\n",
    "    else:\n",
    "        print(xx*xx)"
   ]
  },
  {
   "cell_type": "markdown",
   "metadata": {},
   "source": [
    "## Control Flow (While Loops)\n",
    "While loops continue running until some condition is met. Make sure that you think carefully before using a 'while' loop...if you don't have a reachable escape condition then it will just sit there and spin forever!"
   ]
  },
  {
   "cell_type": "code",
   "execution_count": null,
   "metadata": {
    "collapsed": true
   },
   "outputs": [],
   "source": [
    "import random\n",
    "x = random.random()\n",
    "print(x)\n",
    "while x < .99:\n",
    "    x = random.random()\n",
    "    print(x)\n"
   ]
  },
  {
   "cell_type": "markdown",
   "metadata": {},
   "source": [
    "The break command will end a while loop (as well as a for-loop) prematurely"
   ]
  },
  {
   "cell_type": "code",
   "execution_count": null,
   "metadata": {
    "collapsed": true
   },
   "outputs": [],
   "source": [
    "# break statement\n",
    "x = random.random()\n",
    "\n",
    "# as long as x is less than .9999999 then keep going, UNLESS x is in between .86 and .88, then bail out\n",
    "while x < .99999999:\n",
    "    x = random.random()\n",
    "    print(x)\n",
    "    \n",
    "    if x > .86 and x < .88:\n",
    "        print('x is between .86 and .88')\n",
    "        break\n",
    "        "
   ]
  },
  {
   "cell_type": "markdown",
   "metadata": {},
   "source": [
    "One common use of the 'break' statement - infinite loop until condition is met. Example: having your stimulus presentation software wait for valid input from hardware (rig, fMRI machine, etc).  "
   ]
  },
  {
   "cell_type": "code",
   "execution_count": null,
   "metadata": {
    "collapsed": true
   },
   "outputs": [],
   "source": [
    "stim_trigger = ''\n",
    "while 1:\n",
    "    print('Start stimulus presentation?[y/n]?')\n",
    "    stim_trigger = input()\n",
    "    if stim_trigger == 'y':\n",
    "        print('starting stimulus')  \n",
    "        break    \n",
    "    elif stim_trigger == 'n':\n",
    "        print('exiting experiment')\n",
    "        break\n",
    "    else:\n",
    "        print('Invalid Input, try again:')\n",
    "        \n",
    "\n",
    "# alternate form where the 'break' condition is specified in the while statement\n",
    "# stim_trigger = ''\n",
    "# while stim_trigger != 'y':\n",
    "#     print('Start stimulus presentation?[y/n]?')\n",
    "#     stim_trigger = input()\n",
    "        \n",
    "# print('starting stimulus')       "
   ]
  },
  {
   "cell_type": "markdown",
   "metadata": {},
   "source": [
    "## Data Types\n",
    "\n",
    "List, tuples, sets and dictionaries\n",
    "\n",
    "Python has a number of data types that you may find useful:\n",
    "\n",
    "* **Lists** are initialized with brackets '[]'\n",
    "\n",
    "* **Tuples** are initialized with parenthesis '()'\n",
    "\n",
    "* **Dictionaries** are initializes with curly brackets '{}'\n",
    "\n",
    "A list is exactly what it sounds like. Each element in a list can be just about anything: a scalar, annother list, annother data type (tuple, dictionary, iterator), or even a function."
   ]
  },
  {
   "cell_type": "code",
   "execution_count": null,
   "metadata": {
    "collapsed": true
   },
   "outputs": [],
   "source": [
    "# define a simple list\n",
    "a_simple_list = [0,1,2,3,4]\n",
    "\n",
    "#- items in a list can be accessed by an index and a pair of square brackets\n",
    "print(a_simple_list[2])\n",
    "\n",
    "#- items can be added to a list by using the append function\n",
    "a_simple_list.append(5)\n",
    "print(a_simple_list)\n",
    "\n",
    "#- there are plenty of built in functions that can be used on a list. \n",
    "# They are probably not very useful...\n",
    "#- What does the pop() function do?\n",
    "print('Pop: %d' %a_simple_list.pop())\n",
    "print(*a_simple_list)"
   ]
  },
  {
   "cell_type": "markdown",
   "metadata": {},
   "source": [
    "## List Indexing \n",
    "Basics, will do more with this next time in NumPy"
   ]
  },
  {
   "cell_type": "code",
   "execution_count": null,
   "metadata": {
    "collapsed": true
   },
   "outputs": [],
   "source": [
    "# To access the first n items in a list:\n",
    "n = 3\n",
    "print(a_simple_list[:n])\n",
    "\n",
    "# To access the items in a list after n:\n",
    "print(a_simple_list[n:])\n",
    "\n",
    "# To access a range of values:\n",
    "print(a_simple_list[2:4])\n",
    "\n",
    "# You can also use negative numbers to work from the back of the list:\n",
    "print(a_simple_list[-4:-1])\n",
    "\n",
    "# Grab every second item in a list\n",
    "print(a_simple_list[::2])\n",
    "\n",
    "# Reverse a list\n",
    "print(a_simple_list[::-1])"
   ]
  },
  {
   "cell_type": "markdown",
   "metadata": {},
   "source": [
    "## Built in methods"
   ]
  },
  {
   "cell_type": "code",
   "execution_count": null,
   "metadata": {
    "collapsed": true
   },
   "outputs": [],
   "source": [
    "a_list = [7,5,4,1]\n",
    "print(a_list)\n",
    "a_list.sort()\n",
    "print(a_list)"
   ]
  },
  {
   "cell_type": "code",
   "execution_count": null,
   "metadata": {
    "collapsed": true
   },
   "outputs": [],
   "source": [
    "# to see a full set of methods type a_list. then hit the tab key...\n",
    "a_list."
   ]
  },
  {
   "cell_type": "markdown",
   "metadata": {},
   "source": [
    "### can also call built in python methods\n",
    "\n",
    "[list of built in methods](https://docs.python.org/3/library/functions.html)"
   ]
  },
  {
   "cell_type": "code",
   "execution_count": null,
   "metadata": {
    "collapsed": true
   },
   "outputs": [],
   "source": [
    "a_list = [7,5,4,1]\n",
    "print('length of this list: ', len(a_list))\n",
    "print('max of this list: ', max(a_list))"
   ]
  },
  {
   "cell_type": "code",
   "execution_count": null,
   "metadata": {
    "collapsed": true
   },
   "outputs": [],
   "source": [
    "# note that not all methods work for all types, and in other cases you get kind of cool behavior like this:\n",
    "a_list = ['bob', 'andy','addie']\n",
    "print('min of this list: ', min(a_list))\n",
    "print('max of this list: ', max(a_list))"
   ]
  },
  {
   "cell_type": "markdown",
   "metadata": {},
   "source": [
    "### Lists can contain mixed data types"
   ]
  },
  {
   "cell_type": "code",
   "execution_count": null,
   "metadata": {
    "collapsed": true
   },
   "outputs": [],
   "source": [
    "a_weird_list = [2018,'UCSD',a_simple_list,range(5),sum,[1,1,2,3,5,8,13,21]]\n",
    "print(a_weird_list)\n",
    "print('The next item in the fibonacci sequence is: %d '%a_weird_list[4](a_weird_list[5][-2:]))"
   ]
  },
  {
   "cell_type": "markdown",
   "metadata": {},
   "source": [
    "## Tuples:\n",
    "\n",
    "Tuples are very similar to lists in a lot of ways. The main difference is that they are **immutable** meaning once they are created they cannot be changed... no matter how hard you try."
   ]
  },
  {
   "cell_type": "code",
   "execution_count": null,
   "metadata": {
    "collapsed": true
   },
   "outputs": [],
   "source": [
    "a_simple_tuple = (1,'fish',2,'fish')\n",
    "annother_tuple = ('red','fish','blue','fish')\n",
    "print(a_simple_tuple)\n",
    "print(annother_tuple)"
   ]
  },
  {
   "cell_type": "code",
   "execution_count": null,
   "metadata": {
    "collapsed": true
   },
   "outputs": [],
   "source": [
    "# tuples are indexed the same way as lists\n",
    "print(a_simple_tuple[::-1])\n",
    "\n",
    "# a tuple can be created with only one element by including a trailing comma\n",
    "not_a_tuple = (100)\n",
    "a_short_tuple = (100,)\n",
    "\n",
    "print(a_short_tuple, type(a_short_tuple))\n",
    "print(not_a_tuple, type(not_a_tuple))"
   ]
  },
  {
   "cell_type": "markdown",
   "metadata": {},
   "source": [
    "### Tuples are immutable! Can't do this..."
   ]
  },
  {
   "cell_type": "code",
   "execution_count": null,
   "metadata": {
    "collapsed": true
   },
   "outputs": [],
   "source": [
    "a_simple_tuple[0] = 5\n",
    "a_simple_tuple.append(annother_tuple)"
   ]
  },
  {
   "cell_type": "markdown",
   "metadata": {},
   "source": [
    "<div class=\"alert alert-warning\">\n",
    "But, tuples can still change!\n",
    "If a tuple points to annother variable, and that variable changes, then the tuple \n",
    "value in that location *will* change. Important to be aware of when bug hunting.\n",
    "</div>"
   ]
  },
  {
   "cell_type": "code",
   "execution_count": null,
   "metadata": {
    "collapsed": true
   },
   "outputs": [],
   "source": [
    "a = [1,2,3] #- list (mutable)\n",
    "c = (a,4) #- tuple (immutable)\n",
    "a[1]=14\n",
    "print(c)"
   ]
  },
  {
   "cell_type": "markdown",
   "metadata": {},
   "source": [
    "### Tuples are *iterable*\n",
    "Tuples (as well as lists) can be iterated over in for loop"
   ]
  },
  {
   "cell_type": "code",
   "execution_count": null,
   "metadata": {
    "collapsed": true
   },
   "outputs": [],
   "source": [
    "for i in a_simple_tuple:\n",
    "    print('%s is type: %s' %(i,type(i)))"
   ]
  },
  {
   "cell_type": "markdown",
   "metadata": {},
   "source": [
    "### Dictionaries\n",
    "Unlike lists & tuples, dictionaries are indexed by 'keys' which mark each entry"
   ]
  },
  {
   "cell_type": "code",
   "execution_count": null,
   "metadata": {
    "collapsed": true
   },
   "outputs": [],
   "source": [
    "UC_Enrollment = {'Santa Barbara':21574,'Santa Cruz':16962,'Irvine': 27331,'Los Angeles':30873,\n",
    "                 'Merced':6815,'Riverside':19799,'San Diego':28127,'San Francisco':0,\n",
    "                 'Berkeley':29310,'Davis':29379}\n",
    "# source: https://www.thoughtco.com/comparison-university-of-california-campuses-786974\n",
    "\n",
    "# the keys command gives a list of all keys (not technically a list but behaves the same way)\n",
    "schools = UC_Enrollment.keys()\n",
    "\n",
    "# can loop over and print out...\n",
    "for school in schools:\n",
    "    num_students = UC_Enrollment[school]\n",
    "    print('School:\\t', school, '\\tNumber of students:\\t',num_students)"
   ]
  },
  {
   "cell_type": "markdown",
   "metadata": {},
   "source": [
    "### Dictionaries are also directly iterable (both keys and indexed values)"
   ]
  },
  {
   "cell_type": "code",
   "execution_count": null,
   "metadata": {
    "collapsed": true
   },
   "outputs": [],
   "source": [
    "for x in UC_Enrollment.values():\n",
    "    print(x)"
   ]
  },
  {
   "cell_type": "code",
   "execution_count": null,
   "metadata": {
    "collapsed": true
   },
   "outputs": [],
   "source": [
    "for x, y in UC_Enrollment.items():\n",
    "    print(x, y)"
   ]
  },
  {
   "cell_type": "markdown",
   "metadata": {},
   "source": [
    "## Defining functions \n",
    "Declare your own functions so that you can easily use algorithms that you need over and over."
   ]
  },
  {
   "cell_type": "code",
   "execution_count": null,
   "metadata": {
    "collapsed": true
   },
   "outputs": [],
   "source": [
    "def check_input_value(x):\n",
    "    if x > 0:\n",
    "        x = x + 10\n",
    "        print('adding 10 to input, new number is:', x)\n",
    "    elif x < 0:\n",
    "        x = x - 10\n",
    "        print('subtracting 10 from input, new number is:', x)\n",
    "    else:\n",
    "        x = NaN\n",
    "        print('enter a number')\n",
    "        \n",
    "    return x"
   ]
  },
  {
   "cell_type": "code",
   "execution_count": null,
   "metadata": {
    "collapsed": true
   },
   "outputs": [],
   "source": [
    "# now call the function and pass in a number\n",
    "y = check_input_value(10)\n",
    "print(y)"
   ]
  },
  {
   "cell_type": "markdown",
   "metadata": {},
   "source": [
    "## Exporting functions\n",
    "Write the function out to a .py file for repeated using the writefile cell magic command (note the %% for cell magics as opposed to % for line magics)"
   ]
  },
  {
   "cell_type": "code",
   "execution_count": null,
   "metadata": {
    "collapsed": true
   },
   "outputs": [],
   "source": [
    "%%writefile check_input_value.py\n",
    "\n",
    "def check_input_value(x):\n",
    "    \n",
    "    if x > 0:\n",
    "        x = x + 10\n",
    "        print('adding 10 to input, new number is:', x)\n",
    "    elif x < 0:\n",
    "        x = x - 10\n",
    "        print('subtracting 10 from input, new number is:', x)\n",
    "    else:\n",
    "        x = NaN\n",
    "        print('enter a number')\n",
    "        \n",
    "    return x"
   ]
  },
  {
   "cell_type": "markdown",
   "metadata": {},
   "source": [
    "## Exporting Modules\n",
    "Write out a .py file that has multiple functions in it, then you can call it as a module"
   ]
  },
  {
   "cell_type": "code",
   "execution_count": null,
   "metadata": {
    "collapsed": true
   },
   "outputs": [],
   "source": [
    "%%writefile some_random_tools.py\n",
    "\n",
    "def square(x):\n",
    "    y = x * x # or x**2\n",
    "    return y\n",
    "\n",
    "def times_ten(x):\n",
    "    y = x * 10\n",
    "    return(y)\n",
    "\n",
    "def cubed(x):\n",
    "    y = x * x * x\n",
    "    return(y)"
   ]
  },
  {
   "cell_type": "markdown",
   "metadata": {},
   "source": [
    "## Importing Modules\n",
    "Import your new module and access the functionality. "
   ]
  },
  {
   "cell_type": "code",
   "execution_count": null,
   "metadata": {
    "collapsed": true
   },
   "outputs": [],
   "source": [
    "import some_random_tools as srt\n",
    "\n",
    "x = 5\n",
    "\n",
    "print(srt.square(x))\n",
    "\n",
    "print(srt.times_ten(x))\n",
    "\n",
    "print(srt.cubed(x))\n"
   ]
  }
 ],
 "metadata": {
  "kernelspec": {
   "display_name": "Python 3",
   "language": "python",
   "name": "python3"
  },
  "language_info": {
   "codemirror_mode": {
    "name": "ipython",
    "version": 3
   },
   "file_extension": ".py",
   "mimetype": "text/x-python",
   "name": "python",
   "nbconvert_exporter": "python",
   "pygments_lexer": "ipython3",
   "version": "3.6.3"
  }
 },
 "nbformat": 4,
 "nbformat_minor": 2
}
