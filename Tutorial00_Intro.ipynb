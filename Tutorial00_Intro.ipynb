{
 "cells": [
  {
   "cell_type": "markdown",
   "metadata": {},
   "source": [
    "# getting started guide\n",
    "-[the official tutorial](https://docs.python.org/3/)\n",
    "\n",
    "-[nice intro to basics of language](https://www.w3schools.com/python/default.asp)"
   ]
  },
  {
   "cell_type": "markdown",
   "metadata": {},
   "source": [
    "<div class=\"alert alert-info\">\n",
    "if you see this color in a markdown header, then its friendly information :)\n",
    "</div>"
   ]
  },
  {
   "cell_type": "markdown",
   "metadata": {},
   "source": [
    "<div class=\"alert alert-success\">\n",
    "if you see this color in a markdown header, then it means something good happened! success!\n",
    "</div>"
   ]
  },
  {
   "cell_type": "markdown",
   "metadata": {},
   "source": [
    "<div class=\"alert alert-warning\">\n",
    "if you see this color in a markdown header, then pay attention! its a warning!\n",
    "</div>"
   ]
  },
  {
   "cell_type": "markdown",
   "metadata": {},
   "source": [
    "<div class=\"alert alert-danger\">\n",
    "if you see this color in a markdown header, then run screaming from the room...something dangerous is happening!\n",
    "</div>"
   ]
  },
  {
   "cell_type": "markdown",
   "metadata": {},
   "source": [
    "### assign a variable and print it out (much more on different variable types in NumPy tutorials)\n",
    "[obama kills fly](https://www.youtube.com/watch?v=yyQ3ToiimyM)\n",
    "\n",
    "case sensitive\n",
    "no explicit term to initialize variable as in C or other languages (e.g. no \"int x, x=8\" synatax)\n",
    "\n",
    "var names must start with underscore character or a letter - NOT a number\n",
    "\n",
    "can only contain alpha-numeric characters and underscores (A-z, 0-9, and _ )\n"
   ]
  },
  {
   "cell_type": "code",
   "execution_count": 10,
   "metadata": {},
   "outputs": [
    {
     "name": "stdout",
     "output_type": "stream",
     "text": [
      "Obama kills a fly\n",
      "Obama kills another fly\n"
     ]
    }
   ],
   "source": [
    "# define a string...\n",
    "x = 'Obama kills a fly'\n",
    "print(x)\n",
    "\n",
    "# this is another way to define a string\n",
    "x = \"Obama kills another fly\"\n",
    "print(x)"
   ]
  },
  {
   "cell_type": "code",
   "execution_count": 12,
   "metadata": {},
   "outputs": [
    {
     "name": "stdout",
     "output_type": "stream",
     "text": [
      "Obama kills another fly 17 times a day\n"
     ]
    }
   ],
   "source": [
    "# declare a numerical variable, can easily combine with strings in print statement...\n",
    "y = 17\n",
    "print(x, y, 'times a day')"
   ]
  },
  {
   "cell_type": "markdown",
   "metadata": {},
   "source": [
    "<div class=\"alert alert-info\">\n",
    "Note that Python is a strongly typed language - some languages will **implicitly** (automatically) recast variable types (e.g. basic or java). Python allows **explcit** recasting or reassignment to a variable of a different type, but will not do so automatically except in obvious cases like upcasting\n",
    "</div>"
   ]
  },
  {
   "cell_type": "code",
   "execution_count": null,
   "metadata": {},
   "outputs": [],
   "source": [
    "# declare x as an int\n",
    "x = 2\n",
    "print('value of x: ', x, 'type of x: ', type(x))\n",
    "\n",
    "# now declare as a string, this is ok...\n",
    "x = '2'\n",
    "print('value of x: ', x, 'type of x: ', type(x))\n",
    "\n",
    "# but you can't do this because you can't combine int and str data types\n",
    "y = 2\n",
    "x = '2'\n",
    "\n",
    "print('type of x: ', type(x), 'type of y: ', type(y))\n",
    "\n",
    "# so this will throw an error, whereas in some other languages it might \n",
    "# either return 4 (e.g. VB if recast to ints) or maybe even 22 (java if recast to strs)\n",
    "x+y  "
   ]
  },
  {
   "cell_type": "markdown",
   "metadata": {},
   "source": [
    "<div class=\"alert alert-warning\">\n",
    "variable assignments usually lead to <b>references</b> in Python, not <b>copies</b> as in many languages.\n",
    "This is SUPER important to understand!\n",
    "</div>"
   ]
  },
  {
   "cell_type": "code",
   "execution_count": 1,
   "metadata": {},
   "outputs": [
    {
     "name": "stdout",
     "output_type": "stream",
     "text": [
      "[1, 3]\n"
     ]
    }
   ],
   "source": [
    "# assign a variable - a short array in this case\n",
    "x = [1, 5]\n",
    "\n",
    "# then make another variable, y, and assign it to x\n",
    "y = x\n",
    "\n",
    "# in most languages this would make a copy of what is in x and then assign that to y\n",
    "# i.e. you would have two separate variables that contain independent copies of the data\n",
    "# but in Python, by default, y is just a reference to x and in turn they reference the same\n",
    "# data in memory.\n",
    "\n",
    "# change the second element in y and see what happens to x!\n",
    "y[1] = 3\n",
    "\n",
    "print(x)\n",
    "\n",
    "# we'll talk about 'deep copies' later when we get to NumPy, just keep this in mind for now"
   ]
  },
  {
   "cell_type": "markdown",
   "metadata": {},
   "source": [
    "### Control flow - conditionals and loops to iteratively apply functionality to series of data\n",
    "[if...elif...else conditions](https://www.w3schools.com/python/python_conditions.asp)\n",
    "\n",
    "[while and for loops](https://www.w3schools.com/python/python_while_loops.asp)"
   ]
  },
  {
   "cell_type": "code",
   "execution_count": 17,
   "metadata": {},
   "outputs": [
    {
     "name": "stdout",
     "output_type": "stream",
     "text": [
      "yep, its greater than 10\n"
     ]
    }
   ],
   "source": [
    "# if...elif...else...\n",
    "# note the indentation! this is key as python has no 'begin...end' syntax like the curly braces in C or R  \n",
    "x = 20\n",
    "\n",
    "# then see what x is...\n",
    "if x > 10:\n",
    "    print(\"yep, its greater than 10\")\n",
    "elif x == 10:\n",
    "    print('x = 10')\n",
    "elif 0 <= x < 10:\n",
    "    print(\"x is less than 10, but still >= 0\")\n",
    "elif x < 0:\n",
    "    print(\"x is negative\")\n",
    "else: # catch-all\n",
    "    print(\"who knows what x is?\")\n",
    "    \n",
    "    "
   ]
  },
  {
   "cell_type": "code",
   "execution_count": 15,
   "metadata": {},
   "outputs": [
    {
     "ename": "IndentationError",
     "evalue": "expected an indented block (<ipython-input-15-64b5ecc5b1f6>, line 7)",
     "output_type": "error",
     "traceback": [
      "\u001b[0;36m  File \u001b[0;32m\"<ipython-input-15-64b5ecc5b1f6>\"\u001b[0;36m, line \u001b[0;32m7\u001b[0m\n\u001b[0;31m    print(\"yep, its greater than 10\")\u001b[0m\n\u001b[0m        ^\u001b[0m\n\u001b[0;31mIndentationError\u001b[0m\u001b[0;31m:\u001b[0m expected an indented block\n"
     ]
    }
   ],
   "source": [
    "# if you mess up the indentation, then it will throw an error\n",
    "x = 20\n",
    "\n",
    "# then see what x is...\n",
    "if x > 10:\n",
    "print(\"yep, its greater than 10\")"
   ]
  },
  {
   "cell_type": "markdown",
   "metadata": {},
   "source": [
    "#### for loops - iteratively do stuff a fixed number of times "
   ]
  },
  {
   "cell_type": "code",
   "execution_count": 23,
   "metadata": {},
   "outputs": [
    {
     "name": "stdout",
     "output_type": "stream",
     "text": [
      "range(0, 3)\n",
      "Iteration:  0 0\n",
      "Iteration:  1 100\n",
      "Iteration:  2 0\n"
     ]
    }
   ],
   "source": [
    "#iterate using a for loop\n",
    "y = [20,10,0]\n",
    "x = [0,10,20]\n",
    "\n",
    "# loop over elements by iterating from 0:len(x)-1 and applying * operation to each \n",
    "# set of elements in x, y\n",
    "for i in range(len(x)):\n",
    "    print('Iteration: ', i, x[i]*y[i])\n",
    "    "
   ]
  },
  {
   "cell_type": "markdown",
   "metadata": {},
   "source": [
    "#### while loop - keep looping until some condition is met...also illustration of 'break' "
   ]
  },
  {
   "cell_type": "code",
   "execution_count": 37,
   "metadata": {},
   "outputs": [
    {
     "name": "stdout",
     "output_type": "stream",
     "text": [
      "0.4903820607742383\n",
      "0.07055077592796544\n",
      "0.46816749459611884\n",
      "0.3451081977064513\n",
      "0.8579590335538406\n",
      "0.588898434312437\n",
      "0.35653539837182424\n",
      "0.4044726229298815\n",
      "0.07696823532112607\n",
      "0.6228270790071337\n",
      "0.7338786780873782\n",
      "0.5237068974363621\n",
      "0.727826249062996\n",
      "0.70511830052207\n",
      "0.044125791909534695\n",
      "0.9712864117678768\n",
      "0.8313313834942213\n",
      "0.961539925435048\n",
      "0.25800936651687134\n",
      "0.2704766313115491\n",
      "0.6230003313915252\n",
      "0.3088329311555401\n",
      "0.9868161611945198\n",
      "0.8567447191847661\n",
      "0.602685937705397\n",
      "0.6886939388208408\n",
      "0.6425975342327982\n",
      "0.26934489640337456\n",
      "0.7885871427493406\n",
      "0.04526663681741916\n",
      "0.5655108489030085\n",
      "0.06643065347609611\n",
      "0.25021743450657974\n",
      "0.9965450454834497\n"
     ]
    }
   ],
   "source": [
    "import random\n",
    "x = random.random()\n",
    "print(x)\n",
    "while x < .99:\n",
    "    x = random.random()\n",
    "    print(x)\n"
   ]
  },
  {
   "cell_type": "code",
   "execution_count": 42,
   "metadata": {},
   "outputs": [
    {
     "name": "stdout",
     "output_type": "stream",
     "text": [
      "0.92376710964022\n",
      "0.9711557798494133\n",
      "0.7080735909101813\n",
      "0.48574336363704473\n",
      "0.748224782460854\n",
      "0.33840143085941576\n",
      "0.2528941521831657\n",
      "0.9308857382540623\n",
      "0.21695282787489556\n",
      "0.02651791041180107\n",
      "0.07223309452730342\n",
      "0.737791173405936\n",
      "0.3683365115699705\n",
      "0.4559489540808108\n",
      "0.4339719053412765\n",
      "0.5932593206898723\n",
      "0.7525826875539976\n",
      "0.41946747841918675\n",
      "0.9896927541223097\n",
      "0.6825540741213044\n",
      "0.41309350902685027\n",
      "0.3928676955639314\n",
      "0.392734873784201\n",
      "0.7984153817971898\n",
      "0.6209546463939986\n",
      "0.41434870247810074\n",
      "0.6925719882377123\n",
      "0.6483516249854102\n",
      "0.2354376151217923\n",
      "0.7699916493216139\n",
      "0.33738231845228883\n",
      "0.3380714484110283\n",
      "0.9041427316755358\n",
      "0.013246522662517912\n",
      "0.12249100530518287\n",
      "0.9931287657356233\n",
      "0.7282608100051876\n",
      "0.056501898573632414\n",
      "0.11536461134803622\n",
      "0.5797794141544973\n",
      "0.7823828508036504\n",
      "0.8952434475555492\n",
      "0.2238642942318656\n",
      "0.7970809773857531\n",
      "0.4743691944207489\n",
      "0.9205886505438501\n",
      "0.9703655376107008\n",
      "0.2915694187549992\n",
      "0.5116260344073353\n",
      "0.5433313766552399\n",
      "0.04926279619509655\n",
      "0.6366280599811394\n",
      "0.15850652974811708\n",
      "0.09625040824876219\n",
      "0.09932385865815341\n",
      "0.8663221599129388\n",
      "x is between .86 and .88\n"
     ]
    }
   ],
   "source": [
    "# break statement\n",
    "x = random.random()\n",
    "\n",
    "# as long as x is less than .9999999 then keep going, UNLESS x is in between .86 and .88, then bail out\n",
    "while x < .99999999:\n",
    "    x = random.random()\n",
    "    print(x)\n",
    "    \n",
    "    if x>.86 and x<.88:\n",
    "        print('x is between .86 and .88')\n",
    "        break\n",
    "        \n",
    "        \n",
    "        "
   ]
  },
  {
   "cell_type": "markdown",
   "metadata": {},
   "source": [
    "### list, tuples, sets and dicts"
   ]
  },
  {
   "cell_type": "markdown",
   "metadata": {},
   "source": [
    "### Python functions - declare your own functions so that you can easily use algorithms that you need over and over."
   ]
  }
 ],
 "metadata": {
  "kernelspec": {
   "display_name": "Python 3",
   "language": "python",
   "name": "python3"
  },
  "language_info": {
   "codemirror_mode": {
    "name": "ipython",
    "version": 3
   },
   "file_extension": ".py",
   "mimetype": "text/x-python",
   "name": "python",
   "nbconvert_exporter": "python",
   "pygments_lexer": "ipython3",
   "version": "3.6.6"
  }
 },
 "nbformat": 4,
 "nbformat_minor": 2
}
